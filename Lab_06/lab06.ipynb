{
 "cells": [
  {
   "cell_type": "code",
   "execution_count": 37,
   "metadata": {},
   "outputs": [],
   "source": [
    "import rasterio\n",
    "import geopandas as gpd\n",
    "import numpy as np\n",
    "import pandas as pd\n",
    "from shapely.geometry import Point, mapping\n",
    "import json"
   ]
  },
  {
   "cell_type": "code",
   "execution_count": 4,
   "metadata": {},
   "outputs": [],
   "source": [
    "clayData = rasterio.open('./clay.tif')\n",
    "sandData = rasterio.open('./sand.tif')\n",
    "densityData = rasterio.open('./density.tif')\n",
    "moistureData = rasterio.open('./soil_moisture.tif')"
   ]
  },
  {
   "cell_type": "code",
   "execution_count": 5,
   "metadata": {},
   "outputs": [],
   "source": [
    "fields = gpd.read_file('field_centroids.geojson')"
   ]
  },
  {
   "cell_type": "code",
   "execution_count": 42,
   "metadata": {},
   "outputs": [],
   "source": [
    "field_names = []\n",
    "field_centroids = []\n",
    "clay_content = []\n",
    "sand_content = []\n",
    "soil_density = []\n",
    "soil_moisture = []\n",
    "\n",
    "for index, field in fields.iterrows():\n",
    "    field_name = field['Name']\n",
    "    field_names.append(field_name)\n",
    "    centroid = field.geometry.centroid\n",
    "    field_centroids.append(centroid)\n",
    "    \n",
    "    row, col = moistureData.index(centroid.x, centroid.y)\n",
    "    moisture_val = moistureData.read(1)[row, col]\n",
    "    soil_moisture.append(moisture_val)\n",
    "    \n",
    "    row, col = clayData.index(centroid.x, centroid.y)\n",
    "    clay_val = clayData.read(1)[row, col]\n",
    "    clay_content.append(clay_val)\n",
    "    \n",
    "    row, col = sandData.index(centroid.x, centroid.y)\n",
    "    sand_val = sandData.read(1)[row, col]\n",
    "    sand_content.append(sand_val)\n",
    "    \n",
    "    row, col = densityData.index(centroid.x, centroid.y)\n",
    "    density_val = densityData.read(1)[row, col]\n",
    "    soil_density.append(density_val)"
   ]
  },
  {
   "cell_type": "code",
   "execution_count": 45,
   "metadata": {},
   "outputs": [
    {
     "data": {
      "text/html": [
       "<div>\n",
       "<style scoped>\n",
       "    .dataframe tbody tr th:only-of-type {\n",
       "        vertical-align: middle;\n",
       "    }\n",
       "\n",
       "    .dataframe tbody tr th {\n",
       "        vertical-align: top;\n",
       "    }\n",
       "\n",
       "    .dataframe thead th {\n",
       "        text-align: right;\n",
       "    }\n",
       "</style>\n",
       "<table border=\"1\" class=\"dataframe\">\n",
       "  <thead>\n",
       "    <tr style=\"text-align: right;\">\n",
       "      <th></th>\n",
       "      <th>Field_Name</th>\n",
       "      <th>Field_Center</th>\n",
       "      <th>Clay_Content</th>\n",
       "      <th>Sand_Content</th>\n",
       "      <th>Soil_Density</th>\n",
       "      <th>Soil_Moisture</th>\n",
       "    </tr>\n",
       "  </thead>\n",
       "  <tbody>\n",
       "    <tr>\n",
       "      <th>0</th>\n",
       "      <td>Pin4</td>\n",
       "      <td>POINT (30.184082372130998 49.995266264307425)</td>\n",
       "      <td>21</td>\n",
       "      <td>38</td>\n",
       "      <td>1149</td>\n",
       "      <td>2785</td>\n",
       "    </tr>\n",
       "    <tr>\n",
       "      <th>1</th>\n",
       "      <td>Pin17</td>\n",
       "      <td>POINT (30.250268297428843 49.98931843919832)</td>\n",
       "      <td>21</td>\n",
       "      <td>37</td>\n",
       "      <td>1212</td>\n",
       "      <td>2813</td>\n",
       "    </tr>\n",
       "    <tr>\n",
       "      <th>2</th>\n",
       "      <td>Shev7-8-9</td>\n",
       "      <td>POINT (30.333908293755627 50.01055996618192)</td>\n",
       "      <td>22</td>\n",
       "      <td>35</td>\n",
       "      <td>1184</td>\n",
       "      <td>3158</td>\n",
       "    </tr>\n",
       "  </tbody>\n",
       "</table>\n",
       "</div>"
      ],
      "text/plain": [
       "  Field_Name                                   Field_Center  Clay_Content  \\\n",
       "0       Pin4  POINT (30.184082372130998 49.995266264307425)            21   \n",
       "1      Pin17   POINT (30.250268297428843 49.98931843919832)            21   \n",
       "2  Shev7-8-9   POINT (30.333908293755627 50.01055996618192)            22   \n",
       "\n",
       "   Sand_Content  Soil_Density  Soil_Moisture  \n",
       "0            38          1149           2785  \n",
       "1            37          1212           2813  \n",
       "2            35          1184           3158  "
      ]
     },
     "execution_count": 45,
     "metadata": {},
     "output_type": "execute_result"
    }
   ],
   "source": [
    "#Тут я спочатку зробив, а потім глянува як воно має виглядати\n",
    "data = {\n",
    "    'Field_Name': field_names,\n",
    "    'Field_Center': field_centroids,\n",
    "    'Clay_Content': clay_content,\n",
    "    'Sand_Content': sand_content,\n",
    "    'Soil_Density': soil_density,\n",
    "    'Soil_Moisture': soil_moisture\n",
    "}\n",
    "df = pd.DataFrame(data)\n",
    "df.head(3)\n"
   ]
  },
  {
   "cell_type": "code",
   "execution_count": 12,
   "metadata": {},
   "outputs": [],
   "source": [
    "field_centroids = gpd.read_file('field_centroids.geojson')\n",
    "output_data = []\n"
   ]
  },
  {
   "cell_type": "code",
   "execution_count": 39,
   "metadata": {},
   "outputs": [
    {
     "data": {
      "text/plain": [
       "{'type': 'Feature',\n",
       " 'properties': {'id': 44,\n",
       "  'name': 'Ks13',\n",
       "  'soil': {'clay': <generator object sample_gen at 0x00000278A39F6EB0>,\n",
       "   'sand': <generator object sample_gen at 0x00000278A3A0B430>,\n",
       "   'density': <generator object sample_gen at 0x00000278A39F6F20>},\n",
       "  'soil_moisture': <generator object sample_gen at 0x00000278A3A0B740>,\n",
       "  'coordinates': {'lat': 50.03570104293429, 'lng': 30.220735144875057}},\n",
       " 'geometry': {'type': 'Point',\n",
       "  'coordinates': [30.220735144875057, 50.03570104293429]}}"
      ]
     },
     "execution_count": 39,
     "metadata": {},
     "output_type": "execute_result"
    }
   ],
   "source": [
    "#Тут в мене не коректно виводить дані :(\n",
    "\n",
    "for index, row in field_centroids.iterrows():\n",
    "\n",
    "    lat = row.geometry.y\n",
    "    lon = row.geometry.x\n",
    "    clay = next(rasterio.open('./clay.tif').sample([(lon, lat)]))\n",
    "    sand = next(rasterio.open('./sand.tif').sample([(lon, lat)]))\n",
    "    density = next(rasterio.open('./density.tif').sample([(lon, lat)]))\n",
    "    soil_moisture = next(rasterio.open('./soil_moisture.tif').sample([(lon, lat)]))\n",
    "    \n",
    "    \n",
    "    field_data = {\n",
    "        \"type\": \"Feature\",\n",
    "        \"properties\": {\n",
    "            \"id\": index + 1,\n",
    "            \"name\": field_name,\n",
    "            \"soil\": {\n",
    "                \"clay\": clay,\n",
    "                \"sand\": sand,\n",
    "                \"density\": density\n",
    "            },\n",
    "            \"soil_moisture\": soil_moisture\n",
    "        },\n",
    "        \"geometry\": {\n",
    "            \"type\": \"Point\",\n",
    "            \"coordinates\": [lon, lat]\n",
    "        }\n",
    "    }  \n",
    "    \n",
    "    \n",
    "    output_data.append(field_data)\n",
    "output_data.pop(3)\n",
    "\n"
   ]
  },
  {
   "cell_type": "markdown",
   "metadata": {},
   "source": [
    "https://github.com/BogdanJeN/Geo/blob/main/Lab_06/lab_06.ipynb"
   ]
  },
  {
   "cell_type": "code",
   "execution_count": 48,
   "metadata": {},
   "outputs": [],
   "source": [
    "clayData = rasterio.open('./clay.tif')\n",
    "sandData = rasterio.open('./sand.tif')\n",
    "densityData = rasterio.open('./density.tif')\n",
    "moistureData = rasterio.open('./soil_moisture.tif')\n",
    "fieldsData = gpd.read_file(\"./field_centroids.geojson\")"
   ]
  },
  {
   "cell_type": "code",
   "execution_count": 50,
   "metadata": {},
   "outputs": [],
   "source": [
    "field_list = []\n",
    "\n",
    "for index, row in fieldsData.iterrows():\n",
    "    id = row['id']\n",
    "    name = row['Name']\n",
    "    centroid = row['geometry'].centroid\n",
    "\n",
    "    lon, lat = centroid.x, centroid.y\n",
    "\n",
    "    row, col = moistureData.index(lon, lat)\n",
    "    clay = clayData.read(1)[row, col]\n",
    "    sand = sandData.read(1)[row, col]\n",
    "    density = densityData.read(1)[row, col]\n",
    "\n",
    "    moisture = moistureData.read(1)[row, col]\n",
    "\n",
    "    features = {\n",
    "        'type': 'Feature',\n",
    "        'properties': {\n",
    "            'id': id,\n",
    "            'name': name,\n",
    "            'soil': {\n",
    "                'clay': float(clay),\n",
    "                'sand': float(sand),\n",
    "                'density': int(density)\n",
    "            },\n",
    "            'soil_moisture': int(moisture),\n",
    "            'coordinates': {\n",
    "                'lat': float(lat),\n",
    "                'lng': float(lon)\n",
    "            }\n",
    "        },\n",
    "        'geometry': mapping(centroid)\n",
    "    }\n",
    "\n",
    "    field_list.append(features)\n",
    "\n",
    "feature_collection = {\n",
    "    'type': 'FeatureCollection',\n",
    "    'features': field_list\n",
    "}\n",
    "\n",
    "with open('./field_data.geojson', 'w') as f:\n",
    "    json.dump(feature_collection, f, indent=4)"
   ]
  }
 ],
 "metadata": {
  "kernelspec": {
   "display_name": "Python 3.9.2 64-bit",
   "language": "python",
   "name": "python3"
  },
  "language_info": {
   "codemirror_mode": {
    "name": "ipython",
    "version": 3
   },
   "file_extension": ".py",
   "mimetype": "text/x-python",
   "name": "python",
   "nbconvert_exporter": "python",
   "pygments_lexer": "ipython3",
   "version": "3.9.2"
  },
  "orig_nbformat": 4,
  "vscode": {
   "interpreter": {
    "hash": "cf92aa13fedf815d5c8dd192b8d835913fde3e8bc926b2a0ad6cc74ef2ba3ca2"
   }
  }
 },
 "nbformat": 4,
 "nbformat_minor": 2
}
