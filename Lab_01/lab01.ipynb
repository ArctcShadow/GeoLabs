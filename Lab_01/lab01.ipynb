{
 "cells": [
  {
   "cell_type": "code",
   "execution_count": 24,
   "metadata": {},
   "outputs": [],
   "source": [
    "import numpy as np\n",
    "import rasterio"
   ]
  },
  {
   "cell_type": "code",
   "execution_count": 25,
   "metadata": {},
   "outputs": [
    {
     "name": "stdout",
     "output_type": "stream",
     "text": [
      "bounds count = 1\n",
      "CRS = EPSG:4326\n"
     ]
    }
   ],
   "source": [
    "dataset = rasterio.open('./soil_moisture.tif')\n",
    "print('bounds count =', dataset.count)\n",
    "print('CRS =',dataset.crs)\n"
   ]
  },
  {
   "cell_type": "code",
   "execution_count": 26,
   "metadata": {},
   "outputs": [
    {
     "name": "stdout",
     "output_type": "stream",
     "text": [
      "BoundingBox(left=29.566633136000007, bottom=49.434589403000004, right=31.185382877000006, top=50.486672568)\n",
      "777\n",
      "505\n",
      "| 0.00, 0.00, 29.57|\n",
      "| 0.00,-0.00, 50.49|\n",
      "| 0.00, 0.00, 1.00|\n"
     ]
    }
   ],
   "source": [
    "print(dataset.bounds)\n",
    "print(dataset.width)\n",
    "print(dataset.height)\n",
    "print(dataset.transform)"
   ]
  },
  {
   "cell_type": "code",
   "execution_count": 27,
   "metadata": {},
   "outputs": [
    {
     "data": {
      "text/plain": [
       "array([[[65535, 65535, 65535, ..., 65535, 65535, 65535],\n",
       "        [65535, 65535, 65535, ..., 65535, 65535, 65535],\n",
       "        [65535, 65535, 65535, ..., 65535, 65535, 65535],\n",
       "        ...,\n",
       "        [65535, 65535, 65535, ..., 65535, 65535, 65535],\n",
       "        [65535, 65535, 65535, ..., 65535, 65535, 65535],\n",
       "        [65535, 65535, 65535, ..., 65535, 65535, 65535]]], dtype=uint16)"
      ]
     },
     "execution_count": 27,
     "metadata": {},
     "output_type": "execute_result"
    }
   ],
   "source": [
    "array = dataset.read()\n",
    "array\n"
   ]
  },
  {
   "cell_type": "code",
   "execution_count": 28,
   "metadata": {},
   "outputs": [
    {
     "name": "stdout",
     "output_type": "stream",
     "text": [
      "Corect: 169180\n",
      "Incorect: 223205\n"
     ]
    }
   ],
   "source": [
    "print(f'Corect: {array[array != 65535].size}')\n",
    "print(f'Incorect: {array[array == 65535].size}')"
   ]
  }
 ],
 "metadata": {
  "kernelspec": {
   "display_name": "Python 3.9.2 64-bit",
   "language": "python",
   "name": "python3"
  },
  "language_info": {
   "codemirror_mode": {
    "name": "ipython",
    "version": 3
   },
   "file_extension": ".py",
   "mimetype": "text/x-python",
   "name": "python",
   "nbconvert_exporter": "python",
   "pygments_lexer": "ipython3",
   "version": "3.9.2"
  },
  "orig_nbformat": 4,
  "vscode": {
   "interpreter": {
    "hash": "cf92aa13fedf815d5c8dd192b8d835913fde3e8bc926b2a0ad6cc74ef2ba3ca2"
   }
  }
 },
 "nbformat": 4,
 "nbformat_minor": 2
}
