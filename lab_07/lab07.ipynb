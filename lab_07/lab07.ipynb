{
 "cells": [
  {
   "cell_type": "code",
   "execution_count": 34,
   "metadata": {},
   "outputs": [],
   "source": [
    "from osgeo import gdal, ogr, osr\n",
    "import geopandas as gpd\n",
    "import glob\n",
    "import os\n",
    "import numpy as np\n",
    "import math\n",
    "import pandas as pd\n",
    "import rasterio.mask\n",
    "\n"
   ]
  },
  {
   "cell_type": "code",
   "execution_count": 9,
   "metadata": {},
   "outputs": [
    {
     "name": "stdout",
     "output_type": "stream",
     "text": [
      "   id         Name                                           geometry\n",
      "0   1       Pin4_0  MULTIPOLYGON (((30.17411 49.99641, 30.17705 50...\n",
      "1   2      Pin17_1  MULTIPOLYGON (((30.24050 49.98769, 30.24404 49...\n",
      "2   3  Shev7-8-9_2  MULTIPOLYGON (((30.32204 50.00902, 30.33148 50...\n",
      "3   4     Shev10_3  MULTIPOLYGON (((30.35295 50.01389, 30.35007 50...\n",
      "4   5        Tr5_4  MULTIPOLYGON (((30.33304 50.02297, 30.34076 50...\n"
     ]
    }
   ],
   "source": [
    "fieldPolygons = gpd.read_file(\"./spatial_data/field_polygons.geojson\")\n",
    "fieldPolygons[\"Name\"] = fieldPolygons.apply(lambda row: f\"{row['Name']}_{row.name}\", axis=1)\n",
    "print(fieldPolygons.head())\n"
   ]
  },
  {
   "cell_type": "code",
   "execution_count": 8,
   "metadata": {},
   "outputs": [
    {
     "name": "stdout",
     "output_type": "stream",
     "text": [
      "Number of .tif files: 68\n"
     ]
    }
   ],
   "source": [
    "directory = \"./spatial_data/\"\n",
    "tifFiles = glob.glob(directory + \"**/*.tif\")\n",
    "numTifFiles = len(tifFiles)\n",
    "print(\"Number of .tif files:\", numTifFiles)\n",
    "\n"
   ]
  },
  {
   "cell_type": "code",
   "execution_count": 11,
   "metadata": {},
   "outputs": [],
   "source": [
    "fieldPolygons = gpd.read_file(\"./spatial_data/field_polygons.geojson\")\n",
    "resampledDirectory = \"./resampled/\"\n",
    "\n",
    "\n",
    "for idx, row in fieldPolygons.iterrows():\n",
    "    directoryName = os.path.join(resampledDirectory, row[\"Name\"])\n",
    "    os.makedirs(directoryName, exist_ok=True)"
   ]
  },
  {
   "cell_type": "code",
   "execution_count": 25,
   "metadata": {},
   "outputs": [
    {
     "ename": "AttributeError",
     "evalue": "'NoneType' object has no attribute 'SetProjection'",
     "output_type": "error",
     "traceback": [
      "\u001b[1;31m---------------------------------------------------------------------------\u001b[0m",
      "\u001b[1;31mAttributeError\u001b[0m                            Traceback (most recent call last)",
      "Cell \u001b[1;32mIn[25], line 50\u001b[0m\n\u001b[0;32m     46\u001b[0m output_raster \u001b[39m=\u001b[39m os\u001b[39m.\u001b[39mpath\u001b[39m.\u001b[39mjoin(fieldDirectory, \u001b[39mf\u001b[39m\u001b[39m\"\u001b[39m\u001b[39m{\u001b[39;00mfile_name\u001b[39m.\u001b[39msplit(\u001b[39m'\u001b[39m\u001b[39m.\u001b[39m\u001b[39m'\u001b[39m)[\u001b[39m0\u001b[39m]\u001b[39m}\u001b[39;00m\u001b[39m_\u001b[39m\u001b[39m{\u001b[39;00mfieldName\u001b[39m}\u001b[39;00m\u001b[39m.tif\u001b[39m\u001b[39m\"\u001b[39m)\n\u001b[0;32m     47\u001b[0m out_ds \u001b[39m=\u001b[39m driver\u001b[39m.\u001b[39mCreate(output_raster, x_size, y_size, \u001b[39m1\u001b[39m, gdal\u001b[39m.\u001b[39mGDT_Float32)\n\u001b[1;32m---> 50\u001b[0m out_ds\u001b[39m.\u001b[39;49mSetProjection(ds\u001b[39m.\u001b[39mGetProjection())\n\u001b[0;32m     51\u001b[0m out_ds\u001b[39m.\u001b[39mSetGeoTransform(transform)\n\u001b[0;32m     54\u001b[0m out_band \u001b[39m=\u001b[39m out_ds\u001b[39m.\u001b[39mGetRasterBand(\u001b[39m1\u001b[39m)\n",
      "\u001b[1;31mAttributeError\u001b[0m: 'NoneType' object has no attribute 'SetProjection'"
     ]
    }
   ],
   "source": [
    "mainFolder = \"./spatial_data/\"\n",
    "fieldPolygonsFile = \"./spatial_data/field_polygons.geojson\"\n",
    "resampledDirectory = \"./resampled/\"\n",
    "fieldPolygons = gpd.read_file(fieldPolygonsFile)\n",
    "\n",
    "for folder in os.listdir(mainFolder):\n",
    "   \n",
    "    folderPath = os.path.join(mainFolder, folder)\n",
    "\n",
    "   \n",
    "    for file_name in os.listdir(folderPath):\n",
    "       \n",
    "        if file_name.endswith(\".tif\"):\n",
    "            \n",
    "            inputRaster = os.path.join(folderPath, file_name)\n",
    "\n",
    "        \n",
    "            ds = gdal.Open(inputRaster)\n",
    "\n",
    "           \n",
    "            for idx, row in fieldPolygons.iterrows():\n",
    "                \n",
    "                fieldName = row[\"Name\"]\n",
    "                fieldDirectory = os.path.join(resampledDirectory, folder, fieldName)\n",
    "\n",
    "          \n",
    "                os.makedirs(fieldDirectory, exist_ok=True)\n",
    "\n",
    "                fieldGeom = row.geometry\n",
    "\n",
    "                transform = ds.GetGeoTransform()\n",
    "                pixelSize = transform[1]\n",
    "\n",
    "                \n",
    "                x_offset = int(math.floor((fieldGeom.bounds[0] - transform[0]) / pixelSize))\n",
    "                y_offset = int(math.floor((transform[3] - fieldGeom.bounds[3]) / pixelSize))\n",
    "                x_size = int(math.floor((fieldGeom.bounds[2] - fieldGeom.bounds[0]) / pixelSize))\n",
    "                y_size = int(math.floor((fieldGeom.bounds[3] - fieldGeom.bounds[1]) / pixelSize))\n",
    "\n",
    "                \n",
    "                band = ds.GetRasterBand(1)\n",
    "                data = band.ReadAsArray(x_offset, y_offset, x_size, y_size)\n",
    "\n",
    "                \n",
    "                driver = gdal.GetDriverByName(\"GTiff\")\n",
    "                outputRaster = os.path.join(fieldDirectory, f\"{file_name.split('.')[0]}_{fieldName}.tif\")\n",
    "                outDs = driver.Create(outputRaster, x_size, y_size, 1, gdal.GDT_Float32)\n",
    "\n",
    "                \n",
    "                outDs.SetProjection(ds.GetProjection())\n",
    "                outDs.SetGeoTransform(transform)\n",
    "\n",
    "                \n",
    "                outBand = outDs.GetRasterBand(1)\n",
    "                outBand.WriteArray(data)\n",
    "\n",
    "               \n",
    "                outDs = None\n",
    "\n",
    "            \n",
    "            ds = None\n",
    "\n",
    "\n"
   ]
  },
  {
   "cell_type": "markdown",
   "metadata": {},
   "source": [
    "Код який зверху працює, але не так як хотілось. Він бере першу папку з тіфом, перезаписує її в resampled і створює там папки з обрізаними tif. Як це виглядає є в скріншоті до даної лабораторної :("
   ]
  }
 ],
 "metadata": {
  "kernelspec": {
   "display_name": "Python 3.9.2 64-bit",
   "language": "python",
   "name": "python3"
  },
  "language_info": {
   "codemirror_mode": {
    "name": "ipython",
    "version": 3
   },
   "file_extension": ".py",
   "mimetype": "text/x-python",
   "name": "python",
   "nbconvert_exporter": "python",
   "pygments_lexer": "ipython3",
   "version": "3.9.2"
  },
  "orig_nbformat": 4,
  "vscode": {
   "interpreter": {
    "hash": "cf92aa13fedf815d5c8dd192b8d835913fde3e8bc926b2a0ad6cc74ef2ba3ca2"
   }
  }
 },
 "nbformat": 4,
 "nbformat_minor": 2
}
